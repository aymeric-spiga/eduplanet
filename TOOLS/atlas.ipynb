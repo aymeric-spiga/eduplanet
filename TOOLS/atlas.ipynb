{
 "cells": [
  {
   "cell_type": "markdown",
   "metadata": {},
   "source": [
    "# Atlas de l'expérience `keyexp`"
   ]
  },
  {
   "cell_type": "code",
   "execution_count": null,
   "metadata": {},
   "outputs": [],
   "source": [
    "filename = 'resultat.nc'"
   ]
  },
  {
   "cell_type": "code",
   "execution_count": null,
   "metadata": {},
   "outputs": [],
   "source": [
    "import numpy as np\n",
    "import matplotlib.pyplot as plt\n",
    "from pylab import *\n",
    "import cartopy.crs as ccrs\n",
    "from netCDF4 import Dataset\n",
    "\n",
    "%matplotlib inline\n",
    "\n",
    "data = Dataset(filename)"
   ]
  },
  {
   "cell_type": "markdown",
   "metadata": {},
   "source": [
    "| Variable | Notation formelle usuelle | Nom dans `resultat.nc` | Unité | \n",
    "|:---------|:-----------------|:-----------------------|:------|\n",
    "| Température de surface | $T_s(x,y,t)$ | `tsurf` | K |\n",
    "| Pression de surface | $p_s(x,y,t)$ | `ps` | Pa |\n",
    "| Pression atmosphérique | $p(x,y,z,t)$ | `p` | Pa |\n",
    "| Température de l'atmosphère | $T(x,y,z,t)$ | `temp` | K |\n",
    "| Température potentielle | $\\theta(x,y,z,t)$ | `teta` | K |\n",
    "| Vent zonal | $u(x,y,z,t)$ | `u` | m s$^{-1}$ |\n",
    "| Vent méridien | $v(x,y,z,t)$ | `v` | m s$^{-1}$ |\n",
    "| Vent vertical | $w(x,y,z,t)$ | `w` | m s$^{-1}$ |\n",
    "| Albédo | $A_b(x,y,t)$ | `ALB` | SU |\n",
    "| Flux solaire incident au sommet | $F_{vis}^{\\downarrow_{TOA}}(x,y,t)$ | `ISR` | W m$^{-2}$ |\n",
    "| Flux solaire absorbé par la surface | $F_{vis}^{\\downarrow_{Surf}}(x,y,t)$ | `ASR` | W m$^{-2}$ |\n",
    "| Flux infrarouge émis au sommet | $F_{IR}^{\\uparrow_{TOA}}(x,y,t)$ | `OLR` | W m$^{-2}$ |\n",
    "| Taux de chauffage SW | $Q_{rad}^{SW}(x,y,z,t)$ | `zdtsw` | K s$^{-1}$ |\n",
    "| Taux de chauffage LW | $Q_{rad}^{LW}(x,y,z,t)$ | `zdtlw` | K s$^{-1}$ |\n",
    "| Taux de chauffage total | $Q_{rad}(x,y,z,t)$ | `dtrad` | K s$^{-1}$ |\n",
    "| RMM en vapeur d'eau | $q_{vap}(x,y,z,t)$ | `h2o_vap` | kg kg$^{-1}$ |\n",
    "| RMM en glace d'eau | $q_{glace}(x,y,z,t)$ | `h2o_ice` | kg kg$^{-1}$ |\n",
    "| Masse de glace au sol par m$^2$ | $m_{glace}(x,y,t)$ | `h2o_ice_surf` | kg m$^{-2}$ |\n",
    "\n",
    "Quelques remarques : \n",
    "+ SW signifie shortwave, donc correspond au domaine des courtes longueurs d'onde (appelé aussi domaine \"visible\");\n",
    "+ De la même façon LW signifie longwave, et correspond au domaine des grandes longueurs d'onde ou domaine infrarouge;\n",
    "+ RMM signifie rapport de mélange **massique**, en kg de l'espèce considérée par kg d'air;\n",
    "+ Le vent $\\vec{v}$ s'écrit suivant les trois directions de l'espace $\\vec{v}=u\\ \\hat{x}+v\\ \\hat{y}+w\\ \\hat{z}$.\n"
   ]
  },
  {
   "cell_type": "code",
   "execution_count": null,
   "metadata": {},
   "outputs": [],
   "source": [
    "longitude=data.variables['longitude'][:]\n",
    "latitude=data.variables['latitude'][:]\n",
    "altitude=data.variables['altitude'][:]\n",
    "Time = data.variables['Time'][:]\n",
    "Ls = data.variables['Ls'][:]"
   ]
  },
  {
   "cell_type": "markdown",
   "metadata": {},
   "source": [
    "$L_s$ est la longitude solaire, qui sert à désigner la position de la planète sur son orbite. Cumul des années pour les représentations graphiques :"
   ]
  },
  {
   "cell_type": "code",
   "execution_count": null,
   "metadata": {},
   "outputs": [],
   "source": [
    "dafirst = Time[0]\n",
    "daint = Time[1] - dafirst\n",
    "dalast = dafirst + (len(Time)-1)*daint\n",
    "year = 0.\n",
    "add = np.linspace(dafirst,dalast,num=len(Time)) ; add[0] = 0.\n",
    "for iii in range(1,len(Ls)):\n",
    "    if Ls[iii] - Ls[iii-1] < 0: year = year+1.\n",
    "    add[iii] = year*360.\n",
    "Ls_true = add + Ls"
   ]
  },
  {
   "cell_type": "markdown",
   "metadata": {},
   "source": [
    "## Topographie"
   ]
  },
  {
   "cell_type": "code",
   "execution_count": null,
   "metadata": {},
   "outputs": [],
   "source": [
    "grav=9.81 # acceleration gravitationnelle\n",
    "phis=data.variables['phisinit'][:]\n",
    "\n",
    "dataplt = phis/grav\n",
    "\n",
    "fig = plt.figure(figsize=(12,8))\n",
    "ax = plt.axes(projection=ccrs.PlateCarree())\n",
    "ax.set_global()\n",
    "gl = ax.gridlines(linestyle='--',color='black',\n",
    "             draw_labels=True)\n",
    "gl.xlabels_top = False\n",
    "gl.ylabels_right = False\n",
    "clevs = np.linspace(0,4e3,41)\n",
    "plt.contourf(longitude, latitude, dataplt, clevs, transform=ccrs.PlateCarree(),cmap=\"terrain\")\n",
    "plt.title('Topographie', size=14)\n",
    "cb = plt.colorbar(ax=ax, orientation=\"vertical\", pad=0.02, aspect=16, shrink=0.8)\n",
    "cb.set_label(r'mètres',size=12,rotation=0,labelpad=15)\n",
    "cb.ax.tick_params(labelsize=10)\n",
    "plt.show()"
   ]
  },
  {
   "cell_type": "markdown",
   "metadata": {},
   "source": [
    "## Cycle saisonnier de la température"
   ]
  },
  {
   "cell_type": "code",
   "execution_count": null,
   "metadata": {},
   "outputs": [],
   "source": [
    "tsurf=data.variables['tsurf'][:,:,:]\n",
    "fig, ax = plt.subplots(figsize=(12,8))\n",
    "\n",
    "ilat1 = 4\n",
    "ilat2 = 5\n",
    "ilat3 = 6\n",
    "ilat4 = 7\n",
    "\n",
    "# Using set_dashes() to modify dashing of an existing line\n",
    "ts1, = ax.plot(Time, tsurf[:,ilat1,4] - 273.15, label='Latitude '+str(latitude[ilat1]))\n",
    "ts2, = ax.plot(Time, tsurf[:,ilat2,4] - 273.15, label='Latitude '+str(latitude[ilat2]))\n",
    "ts3, = ax.plot(Time, tsurf[:,ilat3,4] - 273.15, label='Latitude '+str(latitude[ilat3]))\n",
    "ts4, = ax.plot(Time, tsurf[:,ilat4,4] - 273.15, label='Latitude '+str(latitude[ilat4]))\n",
    "ax.set_ylim([-100,60])\n",
    "ax.set_xlim([0,2000])\n",
    "ax.set_xlabel('Solar longitude Ls')\n",
    "ax.set_ylabel('Température de surface (°C)')\n",
    "ax.grid()\n",
    "ax.legend()"
   ]
  },
  {
   "cell_type": "markdown",
   "metadata": {},
   "source": [
    "## Température moyenne globale"
   ]
  },
  {
   "cell_type": "code",
   "execution_count": null,
   "metadata": {},
   "outputs": [],
   "source": [
    "fig, ax = plt.subplots(figsize=(12,8))\n",
    "\n",
    "area = data.variables['aire'][:]\n",
    "totarea = np.sum(np.sum(area[:,:],axis=0),axis=0)\n",
    "tsmeanarea = np.mean(np.mean(tsurf[:,:,:]*area,axis=1),axis=1)/totarea*area.size\n",
    "ts1, = ax.plot(Ls_true, tsmeanarea)\n",
    "ax.set_xlabel('Solar longitude Ls')\n",
    "ax.set_ylabel('Température de surface (K)')\n",
    "ax.set_title(\"Evolution de la température de surface sur l'ensemble du globe\")\n",
    "ax.grid()\n",
    "ax.legend()"
   ]
  },
  {
   "cell_type": "markdown",
   "metadata": {},
   "source": [
    "## Bilan énergétique\n",
    "\n",
    "Quatre figures donnant en fonction du temps $L_s$ et de la latitude :\n",
    "1. le flux solaire incident au sommet $F_{vis}^{\\downarrow_{TOA}}$,\n",
    "2. le flux solaire absorbé par la surface $F_{vis}^{\\downarrow_{Surf}}$,\n",
    "3. $F_{IR}^{\\uparrow_{TOA}}$ le flux infrarouge émis au sommet,\n",
    "4. la température de surface $T_s$."
   ]
  },
  {
   "cell_type": "code",
   "execution_count": null,
   "metadata": {},
   "outputs": [],
   "source": [
    "ISR=data.variables['ISR'][:,:,:]\n",
    "ASR=data.variables['ASR'][:,:,:]\n",
    "OLR=data.variables['OLR'][:,:,:]\n",
    "ncontour = 20\n",
    "\n",
    "fig, axs = plt.subplots(2, 2,figsize=(12,10))\n",
    "im1 = axs[0, 0].contourf(Ls_true,latitude,np.mean(ISR[:,:,:],axis=2).transpose(),\n",
    "                         ncontour,cmap='jet')\n",
    "#axs[0, 0].cbar()\n",
    "axs[0, 0].set_ylim([-90,90])\n",
    "axs[0, 0].set_title('Incoming Solar Radiation')\n",
    "fig.colorbar(im1,ax=axs[0, 0])\n",
    "\n",
    "im2 = axs[0, 1].contourf(Ls_true,latitude,np.mean(ASR[:,:,:],axis=2).transpose(),\n",
    "                         ncontour,cmap='jet')\n",
    "axs[0, 1].set_title('Absorbed Solar Radiation')\n",
    "fig.colorbar(im2,ax=axs[0, 1])\n",
    "\n",
    "im3 = axs[1, 0].contourf(Ls_true,latitude,np.mean(OLR[:,:,:],axis=2).transpose(),\n",
    "                         ncontour,cmap='jet')\n",
    "axs[1, 0].set_title('OLR')\n",
    "fig.colorbar(im3,ax=axs[1, 0])\n",
    "\n",
    "\n",
    "im4 = axs[1, 1].contourf(Ls_true,latitude,(np.mean(tsurf[:,:,:],axis=2)-273).transpose(),\n",
    "                         ncontour,cmap='bwr',vmin= -90,vmax=60)\n",
    "axs[1, 1].set_title('Tsurf')\n",
    "fig.colorbar(im4,ax=axs[1, 1])\n",
    "\n",
    "for ax in axs.flat:\n",
    "    ax.set(xlabel='Ls', ylabel='Latitude')\n",
    "\n",
    "# Hide x labels and tick labels for top plots and y ticks for right plots.\n",
    "for ax in axs.flat:\n",
    "    ax.label_outer()"
   ]
  },
  {
   "cell_type": "markdown",
   "metadata": {},
   "source": [
    "## Graphiques à une longitude solaire $L_s$ donnée"
   ]
  },
  {
   "cell_type": "markdown",
   "metadata": {},
   "source": [
    "### Choix du $L_s$"
   ]
  },
  {
   "cell_type": "code",
   "execution_count": null,
   "metadata": {},
   "outputs": [],
   "source": [
    "# Paramètres utilisateurs -----------------------------------------\n",
    "year_user = 4 # année de simulation à regarder\n",
    "Ls_user = 270. # longitude solaire choisie\n",
    "\n",
    "# Code ------------------------------------------------------------\n",
    "Ls_true_user = year_user*360. + Ls_user\n",
    "\n",
    "Ls_ind = np.where(abs(Ls_true-Ls_true_user)==\n",
    "                  abs(Ls_true-Ls_true_user).min())[0]\n",
    "print(\"La valeur la plus proche trouvée est Ls = \"\n",
    "      + str(Ls_true[Ls_ind]-year_user*360.)\n",
    "      + \" pour l'année \" + str(year_user))\n",
    "# -----------------------------------------------------------------"
   ]
  },
  {
   "cell_type": "markdown",
   "metadata": {},
   "source": [
    "## Structure thermique"
   ]
  },
  {
   "cell_type": "code",
   "execution_count": null,
   "metadata": {},
   "outputs": [],
   "source": [
    "# Paramètres utilisateurs -----------------------------------------\n",
    "tempmin = 180.\n",
    "tempmax = 360.\n",
    "ncontour = 60\n",
    "\n",
    "# Code ------------------------------------------------------------\n",
    "temp = data.variables['temp'][:,:,:,:]\n",
    "p = data.variables['p'][:,:,:,:]\n",
    "\n",
    "fig, ax = plt.subplots(figsize=(14,6))\n",
    "xplt=latitude\n",
    "yplt = np.squeeze(np.mean(np.mean(p[Ls_ind,:,:,:],axis=3),axis=2))\n",
    "dataplt = np.squeeze(np.mean(temp[Ls_ind,:,:,:],axis=3))\n",
    "im = ax.contourf(xplt,yplt,dataplt,ncontour,cmap='jet',vmax=tempmax, vmin=tempmin)\n",
    "#axs[0, 0].cbar()\n",
    "#ax1.set_ylim([-90,90])\n",
    "ax.set_title('Temperature')\n",
    "ax.set_yscale('log')\n",
    "ax.set(xlabel='Latitude', ylabel='p')\n",
    "ax.invert_yaxis()\n",
    "fig.colorbar(im,ax=ax)\n",
    "# -----------------------------------------------------------------"
   ]
  }
 ],
 "metadata": {
  "kernelspec": {
   "display_name": "Python 3",
   "language": "python",
   "name": "python3"
  },
  "language_info": {
   "codemirror_mode": {
    "name": "ipython",
    "version": 3
   },
   "file_extension": ".py",
   "mimetype": "text/x-python",
   "name": "python",
   "nbconvert_exporter": "python",
   "pygments_lexer": "ipython3",
   "version": "3.7.9"
  }
 },
 "nbformat": 4,
 "nbformat_minor": 4
}
