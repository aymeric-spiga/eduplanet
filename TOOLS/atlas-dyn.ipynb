{
 "cells": [
  {
   "cell_type": "markdown",
   "metadata": {},
   "source": [
    "# Atlas dynamique de l'expérience `keyexp`"
   ]
  },
  {
   "cell_type": "code",
   "execution_count": null,
   "metadata": {},
   "outputs": [],
   "source": [
    "import netCDF4\n",
    "from pylab import *\n",
    "import numpy as np\n",
    "import cartopy.crs as ccrs\n",
    "\n",
    "ncpath = \"./\"\n",
    "ncfile=ncpath+\"resultat.nc\"\n",
    "data = netCDF4.Dataset(ncfile)\n",
    "longi=data.variables['longitude'][:]\n",
    "lati=data.variables['latitude'][:]\n",
    "altitude=data.variables['altitude'][:]\n",
    "Time = data.variables['Time'][:]\n",
    "Ls = data.variables['Ls'][:]\n",
    "\n",
    "dafirst = Time[0]\n",
    "daint = Time[1] - dafirst\n",
    "dalast = dafirst + (len(Time)-1)*daint\n",
    "year = 0.\n",
    "add = np.linspace(dafirst,dalast,num=len(Time)) ; add[0] = 0.\n",
    "for iii in range(1,len(Ls)):\n",
    "    if Ls[iii] - Ls[iii-1] < 0: year = year+1.\n",
    "    add[iii] = year*360.\n",
    "Ls_true = add + Ls"
   ]
  },
  {
   "cell_type": "markdown",
   "metadata": {},
   "source": [
    "# Choix du $L_s$"
   ]
  },
  {
   "cell_type": "code",
   "execution_count": null,
   "metadata": {},
   "outputs": [],
   "source": [
    "# Paramètres utilisateurs -----------------------------------------\n",
    "year_user = 1 # année de simulation à regarder (démarre à 0)\n",
    "Ls_user = 90. # longitude solaire choisie\n",
    "\n",
    "# Code ------------------------------------------------------------\n",
    "Ls_true_user = year_user*360. + Ls_user\n",
    "\n",
    "Ls_ind = np.where(abs(Ls_true-Ls_true_user)==\n",
    "                  abs(Ls_true-Ls_true_user).min())[0]\n",
    "print(\"La valeur la plus proche trouvée est Ls = \"\n",
    "      + str(Ls_true[Ls_ind]-year_user*360.)\n",
    "      + \" pour l'année \" + str(year_user))\n",
    "# -----------------------------------------------------------------"
   ]
  },
  {
   "cell_type": "markdown",
   "metadata": {},
   "source": [
    "# Choix de l'altitude"
   ]
  },
  {
   "cell_type": "code",
   "execution_count": null,
   "metadata": {},
   "outputs": [],
   "source": [
    "# Paramètres utilisateurs -----------------------------------------\n",
    "alti_user = 10 # altitude choisie en km\n",
    "\n",
    "# Code ------------------------------------------------------------\n",
    "alti_index = np.where(abs(altitude-alti_user)==\n",
    "                  abs(altitude-alti_user).min())[0]\n",
    "print(\"La valeur la plus proche trouvée est z = \"\n",
    "      + str(altitude[alti_index]))\n",
    "# -----------------------------------------------------------------"
   ]
  },
  {
   "cell_type": "markdown",
   "metadata": {},
   "source": [
    "# Vent à l'altitude choisie"
   ]
  },
  {
   "cell_type": "code",
   "execution_count": null,
   "metadata": {},
   "outputs": [],
   "source": [
    "#------------------------------------------------------------------\n",
    "# Paramètres utilisateurs\n",
    "\n",
    "#------------------------------------------------------------------\n",
    "# Code principal\n",
    "\n",
    "ps = data.variables['ps'][:]\n",
    "u = data.variables['u'][:]\n",
    "v = data.variables['v'][:]\n",
    "\n",
    "dataplt = np.squeeze(ps[Ls_ind,:,:])\n",
    "uwind = np.squeeze(u[Ls_ind,alti_index,:,:])\n",
    "vwind = np.squeeze(v[Ls_ind,alti_index,:,:])\n",
    "\n",
    "fig = plt.figure(figsize=(16,12))\n",
    "ax = plt.axes(projection=ccrs.PlateCarree())\n",
    "ax.set_global()\n",
    "#ax.coastlines(resolution=\"110m\",linewidth=1)\n",
    "gl = ax.gridlines(linestyle='--',color='black',\n",
    "             draw_labels=True)\n",
    "gl.xlabels_top = False\n",
    "gl.ylabels_right = False\n",
    "clevs = np.linspace(100,1300,25)\n",
    "plt.contourf(longi, lati, dataplt, clevs, transform=ccrs.PlateCarree(),cmap=plt.cm.jet)\n",
    "plt.title(\"Pression de surface et vents -  z = \" \n",
    "          + str(altitude[alti_index]) + \"km - Ls = \"+str(Ls_true[Ls_ind]-year_user*360.), size=14)\n",
    "cb = plt.colorbar(ax=ax, orientation=\"vertical\", pad=0.02, aspect=16, shrink=0.8)\n",
    "cb.set_label(r'Pa',size=12,rotation=0,labelpad=15)\n",
    "cb.ax.tick_params(labelsize=10)\n",
    "ax.barbs(longi, lati, uwind,vwind, length=5, pivot=\"middle\",\n",
    "         regrid_shape=20, transform=ccrs.PlateCarree(),\n",
    "         barb_increments=dict(half=5, full=10, flag=20))\n",
    "plt.show()"
   ]
  },
  {
   "cell_type": "markdown",
   "metadata": {},
   "source": [
    "# Coupe du vent zonal"
   ]
  },
  {
   "cell_type": "code",
   "execution_count": null,
   "metadata": {},
   "outputs": [],
   "source": [
    "# Paramètres utilisateurs -----------------------------------------\n",
    "vmin = 5.\n",
    "vmax = 100.\n",
    "ncontour = 20\n",
    "\n",
    "# Code ------------------------------------------------------------\n",
    "vitu = data.variables['u'][:,:,:,:]\n",
    "p = data.variables['p'][:,:,:,:]\n",
    "\n",
    "fig, ax = plt.subplots(figsize=(14,6))\n",
    "xplt=lati\n",
    "yplt = np.squeeze(np.mean(np.mean(p[Ls_ind,:,:,:],axis=3),axis=2))\n",
    "dataplt = np.squeeze(np.mean(vitu[Ls_ind,:,:,:],axis=3))\n",
    "im = ax.contourf(xplt,yplt,dataplt,ncontour,cmap='jet',vmax=vmax, vmin=vmin)\n",
    "#axs[0, 0].cbar()\n",
    "#ax1.set_ylim([-90,90])\n",
    "ax.set_title(\"Vent zonal - Ls = \"+str(Ls_true[Ls_ind]-year_user*360.))\n",
    "ax.set_yscale('log')\n",
    "ax.set(xlabel='Latitude', ylabel='p')\n",
    "ax.invert_yaxis()\n",
    "fig.colorbar(im,ax=ax)\n",
    "# -----------------------------------------------------------------"
   ]
  },
  {
   "cell_type": "markdown",
   "metadata": {},
   "source": [
    "# Coupe de température"
   ]
  },
  {
   "cell_type": "code",
   "execution_count": null,
   "metadata": {},
   "outputs": [],
   "source": [
    "# Paramètres utilisateurs -----------------------------------------\n",
    "tempmin = 180.\n",
    "tempmax = 360.\n",
    "ncontour = 60\n",
    "\n",
    "# Code ------------------------------------------------------------\n",
    "temp = data.variables['temp'][:,:,:,:]\n",
    "p = data.variables['p'][:,:,:,:]\n",
    "\n",
    "fig, ax = plt.subplots(figsize=(14,6))\n",
    "xplt=lati\n",
    "yplt = np.squeeze(np.mean(np.mean(p[Ls_ind,:,:,:],axis=3),axis=2))\n",
    "dataplt = np.squeeze(np.mean(temp[Ls_ind,:,:,:],axis=3))\n",
    "im = ax.contourf(xplt,yplt,dataplt,ncontour,cmap='jet',vmax=tempmax, vmin=tempmin)\n",
    "#axs[0, 0].cbar()\n",
    "#ax1.set_ylim([-90,90])\n",
    "ax.set_title(\"Température - Ls = \"+str(Ls_true[Ls_ind]-year_user*360.))\n",
    "ax.set_yscale('log')\n",
    "ax.set(xlabel='Latitude', ylabel='p')\n",
    "ax.invert_yaxis()\n",
    "fig.colorbar(im,ax=ax)\n",
    "# -----------------------------------------------------------------"
   ]
  }
 ],
 "metadata": {
  "kernelspec": {
   "display_name": "Python 3",
   "language": "python",
   "name": "python3"
  },
  "language_info": {
   "codemirror_mode": {
    "name": "ipython",
    "version": 3
   },
   "file_extension": ".py",
   "mimetype": "text/x-python",
   "name": "python",
   "nbconvert_exporter": "python",
   "pygments_lexer": "ipython3",
   "version": "3.7.9"
  }
 },
 "nbformat": 4,
 "nbformat_minor": 4
}
