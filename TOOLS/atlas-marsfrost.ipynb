{
 "cells": [
  {
   "cell_type": "markdown",
   "id": "206fa35f-59ea-454a-982b-13512a2951ec",
   "metadata": {},
   "source": [
    "# Atlas stabilité calottes Mars"
   ]
  },
  {
   "cell_type": "markdown",
   "id": "d88e5f88-57a5-4cc7-b4e4-ebf4c8d8358e",
   "metadata": {},
   "source": [
    "**Rappel :** pour enregistrer une figure, placer cette ligne après la figure en question :\n",
    "\n",
    "<code> fig.savefig('figure.png') </code>\n",
    "\n",
    "Générer ensuite la figure avec la cellule correspondante, puis exécuter cette ligne. La figure sera sauvegardée dans le dossier de la simulation correspondante. Vous pouvez bien sûr changer le nom ou l'extension (JPG, PDF)."
   ]
  },
  {
   "cell_type": "code",
   "execution_count": null,
   "id": "bfcbba4b-a67a-48b5-949d-125fad6f3652",
   "metadata": {},
   "outputs": [],
   "source": [
    "filename = 'resultat.nc'"
   ]
  },
  {
   "cell_type": "code",
   "execution_count": null,
   "id": "e75fdadd-9939-4751-bab0-1c039ce4ebf8",
   "metadata": {},
   "outputs": [],
   "source": [
    "import numpy as np\n",
    "import matplotlib.pyplot as plt\n",
    "from pylab import *\n",
    "import cartopy.crs as ccrs\n",
    "from netCDF4 import Dataset\n",
    "\n",
    "%matplotlib inline\n",
    "import warnings\n",
    "warnings.filterwarnings('ignore')\n",
    "\n",
    "data = Dataset(filename)"
   ]
  },
  {
   "cell_type": "code",
   "execution_count": null,
   "id": "91026c55-35a5-402c-974a-65e845801eb7",
   "metadata": {},
   "outputs": [],
   "source": [
    "longitude=data.variables['longitude'][:]\n",
    "latitude=data.variables['latitude'][:]\n",
    "altitude=data.variables['altitude'][:]\n",
    "Time = data.variables['Time'][:]\n",
    "Ls = data.variables['Ls'][:]"
   ]
  },
  {
   "cell_type": "code",
   "execution_count": null,
   "id": "385a25d1-c17e-4c05-b49c-65e43e2f0dad",
   "metadata": {},
   "outputs": [],
   "source": [
    "dafirst = Time[0]\n",
    "daint = Time[1] - dafirst\n",
    "dalast = dafirst + (len(Time)-1)*daint\n",
    "year = 0.\n",
    "add = np.linspace(dafirst,dalast,num=len(Time)) ; add[0] = 0.\n",
    "for iii in range(1,len(Ls)):\n",
    "    if Ls[iii] - Ls[iii-1] < 0: year = year+1.\n",
    "    add[iii] = year*360.\n",
    "Ls_true = add + Ls"
   ]
  },
  {
   "cell_type": "markdown",
   "id": "70b3caf3-768b-4aa3-b706-cdf8450c5269",
   "metadata": {},
   "source": [
    "## Carte en moyenne temporelle sur la totalité de l'expérience"
   ]
  },
  {
   "cell_type": "code",
   "execution_count": null,
   "id": "74e4c5ce-2ff0-4201-a775-3facb3f16f82",
   "metadata": {},
   "outputs": [],
   "source": [
    "# Paramètres utilisateurs -----------------------------------------\n",
    "earthtopo = False # ajouter les traits de côte actuels\n",
    "varname = 'tsurf'\n",
    "vmin = 120\n",
    "vmax = 280\n",
    "\n",
    "# Code ------------------------------------------------------------\n",
    "dataplt = data.variables[varname][:,:,:]\n",
    "\n",
    "fig = plt.figure(figsize=(12,8))\n",
    "ax = plt.axes(projection=ccrs.PlateCarree())\n",
    "ax.set_global()\n",
    "if (earthtopo): ax.coastlines(resolution=\"110m\",linewidth=1)\n",
    "gl = ax.gridlines(linestyle='--',color='black',\n",
    "             draw_labels=True)\n",
    "gl.xlabels_top = False\n",
    "gl.ylabels_right = False\n",
    "clevs = np.linspace(vmin,vmax,29)\n",
    "plt.contourf(longitude, latitude, np.mean(dataplt[:,:,:],axis=0),\n",
    "             clevs, transform=ccrs.PlateCarree(),cmap=\"jet\")\n",
    "plt.title(r\"Température de surface moyenne\", size=14)\n",
    "cb = plt.colorbar(ax=ax, orientation=\"vertical\", pad=0.02, aspect=16, shrink=0.8)\n",
    "cb.set_label(r'K',size=12,rotation=0,labelpad=15)\n",
    "cb.ax.tick_params(labelsize=10)\n",
    "plt.show()"
   ]
  },
  {
   "cell_type": "markdown",
   "id": "7ad2f4a8-c684-455f-b4f7-a5fd30d63453",
   "metadata": {},
   "source": [
    "## Carte en moyenne temporelle de $p_{sat}$ pour $H_2O$"
   ]
  },
  {
   "cell_type": "code",
   "execution_count": null,
   "id": "fe2ad2ae-0af0-4a9c-aa10-b0df43ae9764",
   "metadata": {},
   "outputs": [],
   "source": [
    "def psatw(temp):\n",
    "  # METHOD GOFF GRATCH (HygroLP) - OVER WATER\n",
    "  # -----------------------------------------\n",
    "  log10ew = -7.90298*(373.16/temp-1) \\\n",
    "    + 5.02808 * np.log10(373.16/temp) \\\n",
    "    - 1.3816e-7 * (10**(11.344 * (1-temp/373.16))-1) \\\n",
    "    + 8.1328e-3 * (10**(-3.49149 *(373.16/temp-1))-1) \\\n",
    "    + np.log10(1013.246)\n",
    "  return 100 * (10**(log10ew))\n",
    "\n",
    "def psati(temp):\n",
    "  # METHOD GOFF GRATCH (HygroLP) - OVER ICE\n",
    "  # ---------------------------------------\n",
    "  log10ei = -9.09718*(273.16/temp-1) \\\n",
    "    - 3.56654*np.log10(273.16/temp) \\\n",
    "    + 0.876793*(1-temp/273.16) \\\n",
    "    + np.log10(6.1071)\n",
    "  return  100 * (10**(log10ei))\n"
   ]
  },
  {
   "cell_type": "code",
   "execution_count": null,
   "id": "c67ec442-76ea-4a3e-b732-62f11ce3f1a2",
   "metadata": {},
   "outputs": [],
   "source": [
    "tzero = 273.15\n",
    "temp = np.linspace(-80+tzero,tzero,81)\n",
    "plt.yscale('log')\n",
    "plt.plot(temp,psatw(temp))\n",
    "plt.plot(temp,psati(temp))\n",
    "plt.show()"
   ]
  },
  {
   "cell_type": "code",
   "execution_count": null,
   "id": "da592355-9e7a-4b39-83eb-f81201c61ea1",
   "metadata": {},
   "outputs": [],
   "source": [
    "# Paramètres utilisateurs -----------------------------------------\n",
    "earthtopo = False # ajouter les traits de côte actuels\n",
    "ph2oatmo = 0.05e-2*610. # assumed mean water vapor partial pressure\n",
    "vmin = 0.\n",
    "vmax = 1.\n",
    "\n",
    "# Code ------------------------------------------------------------\n",
    "tsurfnc = data.variables['tsurf'][:,:,:]\n",
    "dataplt = ph2oatmo/psati(tsurfnc)\n",
    "\n",
    "fig = plt.figure(figsize=(12,8))\n",
    "ax = plt.axes(projection=ccrs.PlateCarree())\n",
    "ax.set_global()\n",
    "if (earthtopo): ax.coastlines(resolution=\"110m\",linewidth=1)\n",
    "gl = ax.gridlines(linestyle='--',color='black',\n",
    "             draw_labels=True)\n",
    "gl.xlabels_top = False\n",
    "gl.ylabels_right = False\n",
    "clevs = np.linspace(vmin,vmax,21)\n",
    "plt.contourf(longitude, latitude, np.mean(dataplt[:,:,:],axis=0),\n",
    "             clevs, transform=ccrs.PlateCarree(),cmap=\"jet\")\n",
    "plt.title(r\"Saturation ratio\", size=14)\n",
    "cb = plt.colorbar(ax=ax, orientation=\"vertical\", pad=0.02, aspect=16, shrink=0.8)\n",
    "cb.set_label(r'Pa',size=12,rotation=0,labelpad=15)\n",
    "cb.ax.tick_params(labelsize=10)\n",
    "plt.show()"
   ]
  },
  {
   "cell_type": "markdown",
   "id": "170ef4f8-e95e-403c-a7bf-fa1768d43a7c",
   "metadata": {},
   "source": [
    "## Carte à $L_s$ donné de $p_{sat}$ pour $H_2O$"
   ]
  },
  {
   "cell_type": "code",
   "execution_count": null,
   "id": "a4ed4fd2-513e-47af-836c-4f7ecec6b6ea",
   "metadata": {},
   "outputs": [],
   "source": [
    "# Paramètres utilisateurs -----------------------------------------\n",
    "earthtopo = False # ajouter les traits de côte actuels\n",
    "\n",
    "year_user = 1 # année de simulation à regarder\n",
    "Ls_user = 90. # longitude solaire choisie\n",
    "\n",
    "varname = 'tsurf'\n",
    "vmin = 80.\n",
    "vmax = 280.\n",
    "\n",
    "# Code ------------------------------------------------------------\n",
    "Ls_true_user = year_user*360. + Ls_user\n",
    "\n",
    "Ls_ind = np.where(abs(Ls_true-Ls_true_user)==\n",
    "                  abs(Ls_true-Ls_true_user).min())[0]\n",
    "print(\"La valeur la plus proche trouvée est Ls = \"\n",
    "      + str(Ls_true[Ls_ind]-year_user*360.)\n",
    "      + \" pour l'année \" + str(year_user))\n",
    "\n",
    "# Code ------------------------------------------------------------\n",
    "\n",
    "var = data.variables[varname][:,:,:]\n",
    "dataplt = var\n",
    "\n",
    "fig = plt.figure(figsize=(12,8))\n",
    "ax = plt.axes(projection=ccrs.PlateCarree())\n",
    "ax.set_global()\n",
    "if (earthtopo): ax.coastlines(resolution=\"110m\",linewidth=1)\n",
    "gl = ax.gridlines(linestyle='--',color='black',\n",
    "             draw_labels=True)\n",
    "gl.xlabels_top = False\n",
    "gl.ylabels_right = False\n",
    "clevs = np.linspace(vmin,vmax,29)\n",
    "plt.contourf(longitude, latitude, np.squeeze(dataplt[Ls_ind,:,:]),\n",
    "             clevs, transform=ccrs.PlateCarree(),cmap=\"jet\")\n",
    "plt.title(r\"Température de surface\", size=14)\n",
    "cb = plt.colorbar(ax=ax, orientation=\"vertical\", pad=0.02, aspect=16, shrink=0.8)\n",
    "cb.set_label(r'K',size=12,rotation=0,labelpad=15)\n",
    "cb.ax.tick_params(labelsize=10)\n",
    "plt.show()"
   ]
  },
  {
   "cell_type": "code",
   "execution_count": null,
   "id": "c56fe379-1c4e-4cce-b8d9-ade9ef66fb88",
   "metadata": {
    "tags": []
   },
   "outputs": [],
   "source": [
    "# Paramètres utilisateurs -----------------------------------------\n",
    "earthtopo = False # ajouter les traits de côte actuels\n",
    "\n",
    "year_user = 1 # année de simulation à regarder\n",
    "Ls_user = 270. # longitude solaire choisie\n",
    "\n",
    "ph2oatmo = 0.05e-2*610. # assumed mean water vapor partial pressure\n",
    "vmin = 0.\n",
    "vmax = 1.\n",
    "\n",
    "# Code ------------------------------------------------------------\n",
    "Ls_true_user = year_user*360. + Ls_user\n",
    "\n",
    "Ls_ind = np.where(abs(Ls_true-Ls_true_user)==\n",
    "                  abs(Ls_true-Ls_true_user).min())[0]\n",
    "print(\"La valeur la plus proche trouvée est Ls = \"\n",
    "      + str(Ls_true[Ls_ind]-year_user*360.)\n",
    "      + \" pour l'année \" + str(year_user))\n",
    "\n",
    "# Code ------------------------------------------------------------\n",
    "\n",
    "tsurfnc = data.variables['tsurf'][:,:,:]\n",
    "dataplt = ph2oatmo/psati(tsurfnc)\n",
    "\n",
    "fig = plt.figure(figsize=(12,8))\n",
    "ax = plt.axes(projection=ccrs.PlateCarree())\n",
    "ax.set_global()\n",
    "if (earthtopo): ax.coastlines(resolution=\"110m\",linewidth=1)\n",
    "gl = ax.gridlines(linestyle='--',color='black',\n",
    "             draw_labels=True)\n",
    "gl.xlabels_top = False\n",
    "gl.ylabels_right = False\n",
    "clevs = np.linspace(vmin,vmax,29)\n",
    "plt.contourf(longitude, latitude, np.squeeze(dataplt[Ls_ind,:,:]),\n",
    "             clevs, transform=ccrs.PlateCarree(),cmap=\"jet\")\n",
    "plt.title(r\"Saturation ratio\", size=14)\n",
    "cb = plt.colorbar(ax=ax, orientation=\"vertical\", pad=0.02, aspect=16, shrink=0.8)\n",
    "cb.set_label(r'NU',size=12,rotation=0,labelpad=15)\n",
    "cb.ax.tick_params(labelsize=10)\n",
    "plt.show()"
   ]
  },
  {
   "cell_type": "markdown",
   "id": "50291604-400a-4704-97d0-97b388b67b8d",
   "metadata": {},
   "source": [
    "## Carte en moyenne temporelle de $p_{sat}$ pour $CO_2$"
   ]
  },
  {
   "cell_type": "code",
   "execution_count": null,
   "id": "578e8188-090a-42ca-8bc3-a3628f1e3296",
   "metadata": {},
   "outputs": [],
   "source": [
    "def psatco2(temp):\n",
    "  return 1.382 * 1e12 * np.exp(-3182.48/temp)"
   ]
  },
  {
   "cell_type": "code",
   "execution_count": null,
   "id": "d2ba49ef-4cc2-4881-bef4-40d559194c5f",
   "metadata": {},
   "outputs": [],
   "source": [
    "temp = np.linspace(100,200,81)\n",
    "plt.yscale('log')\n",
    "plt.plot(temp,psatco2(temp))\n",
    "plt.show()"
   ]
  },
  {
   "cell_type": "code",
   "execution_count": null,
   "id": "bb32707d-114f-4d4c-b91e-01ef15bec399",
   "metadata": {},
   "outputs": [],
   "source": [
    "# Paramètres utilisateurs -----------------------------------------\n",
    "earthtopo = False # ajouter les traits de côte actuels\n",
    "pco2atmo = 610. # CO2 pressure\n",
    "vmin = 0.\n",
    "vmax = 1.\n",
    "\n",
    "# Code ------------------------------------------------------------\n",
    "tsurfnc = data.variables['tsurf'][:,:,:]\n",
    "dataplt = pco2atmo/psatco2(tsurfnc)\n",
    "\n",
    "fig = plt.figure(figsize=(12,8))\n",
    "ax = plt.axes(projection=ccrs.PlateCarree())\n",
    "ax.set_global()\n",
    "if (earthtopo): ax.coastlines(resolution=\"110m\",linewidth=1)\n",
    "gl = ax.gridlines(linestyle='--',color='black',\n",
    "             draw_labels=True)\n",
    "gl.xlabels_top = False\n",
    "gl.ylabels_right = False\n",
    "clevs = np.linspace(vmin,vmax,21)\n",
    "plt.contourf(longitude, latitude, np.mean(dataplt[:,:,:],axis=0),\n",
    "             clevs, transform=ccrs.PlateCarree(),cmap=\"jet\")\n",
    "plt.title(r\"Saturation ratio\", size=14)\n",
    "cb = plt.colorbar(ax=ax, orientation=\"vertical\", pad=0.02, aspect=16, shrink=0.8)\n",
    "cb.set_label(r'Pa',size=12,rotation=0,labelpad=15)\n",
    "cb.ax.tick_params(labelsize=10)\n",
    "plt.show()"
   ]
  }
 ],
 "metadata": {
  "kernelspec": {
   "display_name": "Python 3",
   "language": "python",
   "name": "python3"
  },
  "language_info": {
   "codemirror_mode": {
    "name": "ipython",
    "version": 3
   },
   "file_extension": ".py",
   "mimetype": "text/x-python",
   "name": "python",
   "nbconvert_exporter": "python",
   "pygments_lexer": "ipython3",
   "version": "3.8.12"
  }
 },
 "nbformat": 4,
 "nbformat_minor": 5
}
